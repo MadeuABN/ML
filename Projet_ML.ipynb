{
 "cells": [
  {
   "cell_type": "code",
   "execution_count": 1,
   "id": "c255a3f6-7d63-4b55-9d7d-680887a3ab13",
   "metadata": {
    "tags": []
   },
   "outputs": [],
   "source": [
    "import pandas as pd\n",
    "import matplotlib.pyplot as plt\n",
    "import seaborn as sns\n",
    "import numpy as np"
   ]
  },
  {
   "cell_type": "code",
   "execution_count": 2,
   "id": "e172cfdc-c5fb-4f16-9a67-c861cc1cb0a9",
   "metadata": {
    "tags": []
   },
   "outputs": [],
   "source": [
    "df_sample_submission = pd.read_csv(\"sample_submission.csv\")\n",
    "df_test = pd.read_csv(\"test.csv\")\n",
    "df_train = pd.read_csv(\"train.csv\")"
   ]
  },
  {
   "cell_type": "code",
   "execution_count": 3,
   "id": "26e321fe-5e63-4631-ba65-2d07452b9d48",
   "metadata": {
    "tags": []
   },
   "outputs": [
    {
     "data": {
      "text/html": [
       "<div>\n",
       "<style scoped>\n",
       "    .dataframe tbody tr th:only-of-type {\n",
       "        vertical-align: middle;\n",
       "    }\n",
       "\n",
       "    .dataframe tbody tr th {\n",
       "        vertical-align: top;\n",
       "    }\n",
       "\n",
       "    .dataframe thead th {\n",
       "        text-align: right;\n",
       "    }\n",
       "</style>\n",
       "<table border=\"1\" class=\"dataframe\">\n",
       "  <thead>\n",
       "    <tr style=\"text-align: right;\">\n",
       "      <th></th>\n",
       "      <th>Id</th>\n",
       "      <th>SalePrice</th>\n",
       "    </tr>\n",
       "  </thead>\n",
       "  <tbody>\n",
       "    <tr>\n",
       "      <th>0</th>\n",
       "      <td>1461</td>\n",
       "      <td>169277.052498</td>\n",
       "    </tr>\n",
       "    <tr>\n",
       "      <th>1</th>\n",
       "      <td>1462</td>\n",
       "      <td>187758.393989</td>\n",
       "    </tr>\n",
       "    <tr>\n",
       "      <th>2</th>\n",
       "      <td>1463</td>\n",
       "      <td>183583.683570</td>\n",
       "    </tr>\n",
       "    <tr>\n",
       "      <th>3</th>\n",
       "      <td>1464</td>\n",
       "      <td>179317.477511</td>\n",
       "    </tr>\n",
       "    <tr>\n",
       "      <th>4</th>\n",
       "      <td>1465</td>\n",
       "      <td>150730.079977</td>\n",
       "    </tr>\n",
       "    <tr>\n",
       "      <th>...</th>\n",
       "      <td>...</td>\n",
       "      <td>...</td>\n",
       "    </tr>\n",
       "    <tr>\n",
       "      <th>1454</th>\n",
       "      <td>2915</td>\n",
       "      <td>167081.220949</td>\n",
       "    </tr>\n",
       "    <tr>\n",
       "      <th>1455</th>\n",
       "      <td>2916</td>\n",
       "      <td>164788.778231</td>\n",
       "    </tr>\n",
       "    <tr>\n",
       "      <th>1456</th>\n",
       "      <td>2917</td>\n",
       "      <td>219222.423400</td>\n",
       "    </tr>\n",
       "    <tr>\n",
       "      <th>1457</th>\n",
       "      <td>2918</td>\n",
       "      <td>184924.279659</td>\n",
       "    </tr>\n",
       "    <tr>\n",
       "      <th>1458</th>\n",
       "      <td>2919</td>\n",
       "      <td>187741.866657</td>\n",
       "    </tr>\n",
       "  </tbody>\n",
       "</table>\n",
       "<p>1459 rows × 2 columns</p>\n",
       "</div>"
      ],
      "text/plain": [
       "        Id      SalePrice\n",
       "0     1461  169277.052498\n",
       "1     1462  187758.393989\n",
       "2     1463  183583.683570\n",
       "3     1464  179317.477511\n",
       "4     1465  150730.079977\n",
       "...    ...            ...\n",
       "1454  2915  167081.220949\n",
       "1455  2916  164788.778231\n",
       "1456  2917  219222.423400\n",
       "1457  2918  184924.279659\n",
       "1458  2919  187741.866657\n",
       "\n",
       "[1459 rows x 2 columns]"
      ]
     },
     "execution_count": 3,
     "metadata": {},
     "output_type": "execute_result"
    }
   ],
   "source": [
    "df_sample_submission"
   ]
  },
  {
   "cell_type": "code",
   "execution_count": 4,
   "id": "fbb5b368-6c96-48b2-a2b9-683cdc3ee456",
   "metadata": {
    "tags": []
   },
   "outputs": [
    {
     "name": "stdout",
     "output_type": "stream",
     "text": [
      "Id           0\n",
      "SalePrice    0\n",
      "dtype: int64\n"
     ]
    }
   ],
   "source": [
    "print(len(df_sample_submission) - df_sample_submission.count())"
   ]
  },
  {
   "cell_type": "code",
   "execution_count": 5,
   "id": "ba3306c8-6d0f-4589-9708-0fee02e4a1ec",
   "metadata": {
    "tags": []
   },
   "outputs": [
    {
     "data": {
      "text/html": [
       "<div>\n",
       "<style scoped>\n",
       "    .dataframe tbody tr th:only-of-type {\n",
       "        vertical-align: middle;\n",
       "    }\n",
       "\n",
       "    .dataframe tbody tr th {\n",
       "        vertical-align: top;\n",
       "    }\n",
       "\n",
       "    .dataframe thead th {\n",
       "        text-align: right;\n",
       "    }\n",
       "</style>\n",
       "<table border=\"1\" class=\"dataframe\">\n",
       "  <thead>\n",
       "    <tr style=\"text-align: right;\">\n",
       "      <th></th>\n",
       "      <th>Id</th>\n",
       "      <th>MSSubClass</th>\n",
       "      <th>MSZoning</th>\n",
       "      <th>LotFrontage</th>\n",
       "      <th>LotArea</th>\n",
       "      <th>Street</th>\n",
       "      <th>Alley</th>\n",
       "      <th>LotShape</th>\n",
       "      <th>LandContour</th>\n",
       "      <th>Utilities</th>\n",
       "      <th>...</th>\n",
       "      <th>ScreenPorch</th>\n",
       "      <th>PoolArea</th>\n",
       "      <th>PoolQC</th>\n",
       "      <th>Fence</th>\n",
       "      <th>MiscFeature</th>\n",
       "      <th>MiscVal</th>\n",
       "      <th>MoSold</th>\n",
       "      <th>YrSold</th>\n",
       "      <th>SaleType</th>\n",
       "      <th>SaleCondition</th>\n",
       "    </tr>\n",
       "  </thead>\n",
       "  <tbody>\n",
       "    <tr>\n",
       "      <th>0</th>\n",
       "      <td>1461</td>\n",
       "      <td>20</td>\n",
       "      <td>RH</td>\n",
       "      <td>80.0</td>\n",
       "      <td>11622</td>\n",
       "      <td>Pave</td>\n",
       "      <td>NaN</td>\n",
       "      <td>Reg</td>\n",
       "      <td>Lvl</td>\n",
       "      <td>AllPub</td>\n",
       "      <td>...</td>\n",
       "      <td>120</td>\n",
       "      <td>0</td>\n",
       "      <td>NaN</td>\n",
       "      <td>MnPrv</td>\n",
       "      <td>NaN</td>\n",
       "      <td>0</td>\n",
       "      <td>6</td>\n",
       "      <td>2010</td>\n",
       "      <td>WD</td>\n",
       "      <td>Normal</td>\n",
       "    </tr>\n",
       "    <tr>\n",
       "      <th>1</th>\n",
       "      <td>1462</td>\n",
       "      <td>20</td>\n",
       "      <td>RL</td>\n",
       "      <td>81.0</td>\n",
       "      <td>14267</td>\n",
       "      <td>Pave</td>\n",
       "      <td>NaN</td>\n",
       "      <td>IR1</td>\n",
       "      <td>Lvl</td>\n",
       "      <td>AllPub</td>\n",
       "      <td>...</td>\n",
       "      <td>0</td>\n",
       "      <td>0</td>\n",
       "      <td>NaN</td>\n",
       "      <td>NaN</td>\n",
       "      <td>Gar2</td>\n",
       "      <td>12500</td>\n",
       "      <td>6</td>\n",
       "      <td>2010</td>\n",
       "      <td>WD</td>\n",
       "      <td>Normal</td>\n",
       "    </tr>\n",
       "    <tr>\n",
       "      <th>2</th>\n",
       "      <td>1463</td>\n",
       "      <td>60</td>\n",
       "      <td>RL</td>\n",
       "      <td>74.0</td>\n",
       "      <td>13830</td>\n",
       "      <td>Pave</td>\n",
       "      <td>NaN</td>\n",
       "      <td>IR1</td>\n",
       "      <td>Lvl</td>\n",
       "      <td>AllPub</td>\n",
       "      <td>...</td>\n",
       "      <td>0</td>\n",
       "      <td>0</td>\n",
       "      <td>NaN</td>\n",
       "      <td>MnPrv</td>\n",
       "      <td>NaN</td>\n",
       "      <td>0</td>\n",
       "      <td>3</td>\n",
       "      <td>2010</td>\n",
       "      <td>WD</td>\n",
       "      <td>Normal</td>\n",
       "    </tr>\n",
       "    <tr>\n",
       "      <th>3</th>\n",
       "      <td>1464</td>\n",
       "      <td>60</td>\n",
       "      <td>RL</td>\n",
       "      <td>78.0</td>\n",
       "      <td>9978</td>\n",
       "      <td>Pave</td>\n",
       "      <td>NaN</td>\n",
       "      <td>IR1</td>\n",
       "      <td>Lvl</td>\n",
       "      <td>AllPub</td>\n",
       "      <td>...</td>\n",
       "      <td>0</td>\n",
       "      <td>0</td>\n",
       "      <td>NaN</td>\n",
       "      <td>NaN</td>\n",
       "      <td>NaN</td>\n",
       "      <td>0</td>\n",
       "      <td>6</td>\n",
       "      <td>2010</td>\n",
       "      <td>WD</td>\n",
       "      <td>Normal</td>\n",
       "    </tr>\n",
       "    <tr>\n",
       "      <th>4</th>\n",
       "      <td>1465</td>\n",
       "      <td>120</td>\n",
       "      <td>RL</td>\n",
       "      <td>43.0</td>\n",
       "      <td>5005</td>\n",
       "      <td>Pave</td>\n",
       "      <td>NaN</td>\n",
       "      <td>IR1</td>\n",
       "      <td>HLS</td>\n",
       "      <td>AllPub</td>\n",
       "      <td>...</td>\n",
       "      <td>144</td>\n",
       "      <td>0</td>\n",
       "      <td>NaN</td>\n",
       "      <td>NaN</td>\n",
       "      <td>NaN</td>\n",
       "      <td>0</td>\n",
       "      <td>1</td>\n",
       "      <td>2010</td>\n",
       "      <td>WD</td>\n",
       "      <td>Normal</td>\n",
       "    </tr>\n",
       "    <tr>\n",
       "      <th>...</th>\n",
       "      <td>...</td>\n",
       "      <td>...</td>\n",
       "      <td>...</td>\n",
       "      <td>...</td>\n",
       "      <td>...</td>\n",
       "      <td>...</td>\n",
       "      <td>...</td>\n",
       "      <td>...</td>\n",
       "      <td>...</td>\n",
       "      <td>...</td>\n",
       "      <td>...</td>\n",
       "      <td>...</td>\n",
       "      <td>...</td>\n",
       "      <td>...</td>\n",
       "      <td>...</td>\n",
       "      <td>...</td>\n",
       "      <td>...</td>\n",
       "      <td>...</td>\n",
       "      <td>...</td>\n",
       "      <td>...</td>\n",
       "      <td>...</td>\n",
       "    </tr>\n",
       "    <tr>\n",
       "      <th>1454</th>\n",
       "      <td>2915</td>\n",
       "      <td>160</td>\n",
       "      <td>RM</td>\n",
       "      <td>21.0</td>\n",
       "      <td>1936</td>\n",
       "      <td>Pave</td>\n",
       "      <td>NaN</td>\n",
       "      <td>Reg</td>\n",
       "      <td>Lvl</td>\n",
       "      <td>AllPub</td>\n",
       "      <td>...</td>\n",
       "      <td>0</td>\n",
       "      <td>0</td>\n",
       "      <td>NaN</td>\n",
       "      <td>NaN</td>\n",
       "      <td>NaN</td>\n",
       "      <td>0</td>\n",
       "      <td>6</td>\n",
       "      <td>2006</td>\n",
       "      <td>WD</td>\n",
       "      <td>Normal</td>\n",
       "    </tr>\n",
       "    <tr>\n",
       "      <th>1455</th>\n",
       "      <td>2916</td>\n",
       "      <td>160</td>\n",
       "      <td>RM</td>\n",
       "      <td>21.0</td>\n",
       "      <td>1894</td>\n",
       "      <td>Pave</td>\n",
       "      <td>NaN</td>\n",
       "      <td>Reg</td>\n",
       "      <td>Lvl</td>\n",
       "      <td>AllPub</td>\n",
       "      <td>...</td>\n",
       "      <td>0</td>\n",
       "      <td>0</td>\n",
       "      <td>NaN</td>\n",
       "      <td>NaN</td>\n",
       "      <td>NaN</td>\n",
       "      <td>0</td>\n",
       "      <td>4</td>\n",
       "      <td>2006</td>\n",
       "      <td>WD</td>\n",
       "      <td>Abnorml</td>\n",
       "    </tr>\n",
       "    <tr>\n",
       "      <th>1456</th>\n",
       "      <td>2917</td>\n",
       "      <td>20</td>\n",
       "      <td>RL</td>\n",
       "      <td>160.0</td>\n",
       "      <td>20000</td>\n",
       "      <td>Pave</td>\n",
       "      <td>NaN</td>\n",
       "      <td>Reg</td>\n",
       "      <td>Lvl</td>\n",
       "      <td>AllPub</td>\n",
       "      <td>...</td>\n",
       "      <td>0</td>\n",
       "      <td>0</td>\n",
       "      <td>NaN</td>\n",
       "      <td>NaN</td>\n",
       "      <td>NaN</td>\n",
       "      <td>0</td>\n",
       "      <td>9</td>\n",
       "      <td>2006</td>\n",
       "      <td>WD</td>\n",
       "      <td>Abnorml</td>\n",
       "    </tr>\n",
       "    <tr>\n",
       "      <th>1457</th>\n",
       "      <td>2918</td>\n",
       "      <td>85</td>\n",
       "      <td>RL</td>\n",
       "      <td>62.0</td>\n",
       "      <td>10441</td>\n",
       "      <td>Pave</td>\n",
       "      <td>NaN</td>\n",
       "      <td>Reg</td>\n",
       "      <td>Lvl</td>\n",
       "      <td>AllPub</td>\n",
       "      <td>...</td>\n",
       "      <td>0</td>\n",
       "      <td>0</td>\n",
       "      <td>NaN</td>\n",
       "      <td>MnPrv</td>\n",
       "      <td>Shed</td>\n",
       "      <td>700</td>\n",
       "      <td>7</td>\n",
       "      <td>2006</td>\n",
       "      <td>WD</td>\n",
       "      <td>Normal</td>\n",
       "    </tr>\n",
       "    <tr>\n",
       "      <th>1458</th>\n",
       "      <td>2919</td>\n",
       "      <td>60</td>\n",
       "      <td>RL</td>\n",
       "      <td>74.0</td>\n",
       "      <td>9627</td>\n",
       "      <td>Pave</td>\n",
       "      <td>NaN</td>\n",
       "      <td>Reg</td>\n",
       "      <td>Lvl</td>\n",
       "      <td>AllPub</td>\n",
       "      <td>...</td>\n",
       "      <td>0</td>\n",
       "      <td>0</td>\n",
       "      <td>NaN</td>\n",
       "      <td>NaN</td>\n",
       "      <td>NaN</td>\n",
       "      <td>0</td>\n",
       "      <td>11</td>\n",
       "      <td>2006</td>\n",
       "      <td>WD</td>\n",
       "      <td>Normal</td>\n",
       "    </tr>\n",
       "  </tbody>\n",
       "</table>\n",
       "<p>1459 rows × 80 columns</p>\n",
       "</div>"
      ],
      "text/plain": [
       "        Id  MSSubClass MSZoning  LotFrontage  LotArea Street Alley LotShape  \\\n",
       "0     1461          20       RH         80.0    11622   Pave   NaN      Reg   \n",
       "1     1462          20       RL         81.0    14267   Pave   NaN      IR1   \n",
       "2     1463          60       RL         74.0    13830   Pave   NaN      IR1   \n",
       "3     1464          60       RL         78.0     9978   Pave   NaN      IR1   \n",
       "4     1465         120       RL         43.0     5005   Pave   NaN      IR1   \n",
       "...    ...         ...      ...          ...      ...    ...   ...      ...   \n",
       "1454  2915         160       RM         21.0     1936   Pave   NaN      Reg   \n",
       "1455  2916         160       RM         21.0     1894   Pave   NaN      Reg   \n",
       "1456  2917          20       RL        160.0    20000   Pave   NaN      Reg   \n",
       "1457  2918          85       RL         62.0    10441   Pave   NaN      Reg   \n",
       "1458  2919          60       RL         74.0     9627   Pave   NaN      Reg   \n",
       "\n",
       "     LandContour Utilities  ... ScreenPorch PoolArea PoolQC  Fence  \\\n",
       "0            Lvl    AllPub  ...         120        0    NaN  MnPrv   \n",
       "1            Lvl    AllPub  ...           0        0    NaN    NaN   \n",
       "2            Lvl    AllPub  ...           0        0    NaN  MnPrv   \n",
       "3            Lvl    AllPub  ...           0        0    NaN    NaN   \n",
       "4            HLS    AllPub  ...         144        0    NaN    NaN   \n",
       "...          ...       ...  ...         ...      ...    ...    ...   \n",
       "1454         Lvl    AllPub  ...           0        0    NaN    NaN   \n",
       "1455         Lvl    AllPub  ...           0        0    NaN    NaN   \n",
       "1456         Lvl    AllPub  ...           0        0    NaN    NaN   \n",
       "1457         Lvl    AllPub  ...           0        0    NaN  MnPrv   \n",
       "1458         Lvl    AllPub  ...           0        0    NaN    NaN   \n",
       "\n",
       "     MiscFeature MiscVal MoSold  YrSold  SaleType  SaleCondition  \n",
       "0            NaN       0      6    2010        WD         Normal  \n",
       "1           Gar2   12500      6    2010        WD         Normal  \n",
       "2            NaN       0      3    2010        WD         Normal  \n",
       "3            NaN       0      6    2010        WD         Normal  \n",
       "4            NaN       0      1    2010        WD         Normal  \n",
       "...          ...     ...    ...     ...       ...            ...  \n",
       "1454         NaN       0      6    2006        WD         Normal  \n",
       "1455         NaN       0      4    2006        WD        Abnorml  \n",
       "1456         NaN       0      9    2006        WD        Abnorml  \n",
       "1457        Shed     700      7    2006        WD         Normal  \n",
       "1458         NaN       0     11    2006        WD         Normal  \n",
       "\n",
       "[1459 rows x 80 columns]"
      ]
     },
     "execution_count": 5,
     "metadata": {},
     "output_type": "execute_result"
    }
   ],
   "source": [
    "df_test"
   ]
  },
  {
   "cell_type": "code",
   "execution_count": 6,
   "id": "23349f18-bf81-4d3d-9ce0-1b24899f55a2",
   "metadata": {
    "tags": []
   },
   "outputs": [
    {
     "name": "stdout",
     "output_type": "stream",
     "text": [
      "PoolQC          1456\n",
      "MiscFeature     1408\n",
      "Alley           1352\n",
      "Fence           1169\n",
      "MasVnrType       894\n",
      "FireplaceQu      730\n",
      "LotFrontage      227\n",
      "GarageCond        78\n",
      "GarageYrBlt       78\n",
      "GarageQual        78\n",
      "GarageFinish      78\n",
      "GarageType        76\n",
      "BsmtCond          45\n",
      "BsmtExposure      44\n",
      "BsmtQual          44\n",
      "BsmtFinType1      42\n",
      "BsmtFinType2      42\n",
      "MasVnrArea        15\n",
      "MSZoning           4\n",
      "BsmtFullBath       2\n",
      "BsmtHalfBath       2\n",
      "Functional         2\n",
      "Utilities          2\n",
      "GarageCars         1\n",
      "GarageArea         1\n",
      "TotalBsmtSF        1\n",
      "KitchenQual        1\n",
      "BsmtUnfSF          1\n",
      "BsmtFinSF2         1\n",
      "BsmtFinSF1         1\n",
      "Exterior2nd        1\n",
      "Exterior1st        1\n",
      "SaleType           1\n",
      "dtype: int64\n"
     ]
    }
   ],
   "source": [
    "#check null test\n",
    "diff_test = len(df_test) - df_test.count()\n",
    "diff_filtered_test = diff_test[diff_test != 0]\n",
    "diff_sorted_test = diff_filtered_test.sort_values(ascending=False)\n",
    "print(diff_sorted_test)"
   ]
  },
  {
   "cell_type": "code",
   "execution_count": 7,
   "id": "37a7714a-8d42-4052-a77f-12b4566cbc8d",
   "metadata": {
    "tags": []
   },
   "outputs": [
    {
     "data": {
      "text/html": [
       "<div>\n",
       "<style scoped>\n",
       "    .dataframe tbody tr th:only-of-type {\n",
       "        vertical-align: middle;\n",
       "    }\n",
       "\n",
       "    .dataframe tbody tr th {\n",
       "        vertical-align: top;\n",
       "    }\n",
       "\n",
       "    .dataframe thead th {\n",
       "        text-align: right;\n",
       "    }\n",
       "</style>\n",
       "<table border=\"1\" class=\"dataframe\">\n",
       "  <thead>\n",
       "    <tr style=\"text-align: right;\">\n",
       "      <th></th>\n",
       "      <th>Id</th>\n",
       "      <th>MSSubClass</th>\n",
       "      <th>MSZoning</th>\n",
       "      <th>LotFrontage</th>\n",
       "      <th>LotArea</th>\n",
       "      <th>Street</th>\n",
       "      <th>Alley</th>\n",
       "      <th>LotShape</th>\n",
       "      <th>LandContour</th>\n",
       "      <th>Utilities</th>\n",
       "      <th>...</th>\n",
       "      <th>PoolArea</th>\n",
       "      <th>PoolQC</th>\n",
       "      <th>Fence</th>\n",
       "      <th>MiscFeature</th>\n",
       "      <th>MiscVal</th>\n",
       "      <th>MoSold</th>\n",
       "      <th>YrSold</th>\n",
       "      <th>SaleType</th>\n",
       "      <th>SaleCondition</th>\n",
       "      <th>SalePrice</th>\n",
       "    </tr>\n",
       "  </thead>\n",
       "  <tbody>\n",
       "    <tr>\n",
       "      <th>0</th>\n",
       "      <td>1</td>\n",
       "      <td>60</td>\n",
       "      <td>RL</td>\n",
       "      <td>65.0</td>\n",
       "      <td>8450</td>\n",
       "      <td>Pave</td>\n",
       "      <td>NaN</td>\n",
       "      <td>Reg</td>\n",
       "      <td>Lvl</td>\n",
       "      <td>AllPub</td>\n",
       "      <td>...</td>\n",
       "      <td>0</td>\n",
       "      <td>NaN</td>\n",
       "      <td>NaN</td>\n",
       "      <td>NaN</td>\n",
       "      <td>0</td>\n",
       "      <td>2</td>\n",
       "      <td>2008</td>\n",
       "      <td>WD</td>\n",
       "      <td>Normal</td>\n",
       "      <td>208500</td>\n",
       "    </tr>\n",
       "    <tr>\n",
       "      <th>1</th>\n",
       "      <td>2</td>\n",
       "      <td>20</td>\n",
       "      <td>RL</td>\n",
       "      <td>80.0</td>\n",
       "      <td>9600</td>\n",
       "      <td>Pave</td>\n",
       "      <td>NaN</td>\n",
       "      <td>Reg</td>\n",
       "      <td>Lvl</td>\n",
       "      <td>AllPub</td>\n",
       "      <td>...</td>\n",
       "      <td>0</td>\n",
       "      <td>NaN</td>\n",
       "      <td>NaN</td>\n",
       "      <td>NaN</td>\n",
       "      <td>0</td>\n",
       "      <td>5</td>\n",
       "      <td>2007</td>\n",
       "      <td>WD</td>\n",
       "      <td>Normal</td>\n",
       "      <td>181500</td>\n",
       "    </tr>\n",
       "    <tr>\n",
       "      <th>2</th>\n",
       "      <td>3</td>\n",
       "      <td>60</td>\n",
       "      <td>RL</td>\n",
       "      <td>68.0</td>\n",
       "      <td>11250</td>\n",
       "      <td>Pave</td>\n",
       "      <td>NaN</td>\n",
       "      <td>IR1</td>\n",
       "      <td>Lvl</td>\n",
       "      <td>AllPub</td>\n",
       "      <td>...</td>\n",
       "      <td>0</td>\n",
       "      <td>NaN</td>\n",
       "      <td>NaN</td>\n",
       "      <td>NaN</td>\n",
       "      <td>0</td>\n",
       "      <td>9</td>\n",
       "      <td>2008</td>\n",
       "      <td>WD</td>\n",
       "      <td>Normal</td>\n",
       "      <td>223500</td>\n",
       "    </tr>\n",
       "    <tr>\n",
       "      <th>3</th>\n",
       "      <td>4</td>\n",
       "      <td>70</td>\n",
       "      <td>RL</td>\n",
       "      <td>60.0</td>\n",
       "      <td>9550</td>\n",
       "      <td>Pave</td>\n",
       "      <td>NaN</td>\n",
       "      <td>IR1</td>\n",
       "      <td>Lvl</td>\n",
       "      <td>AllPub</td>\n",
       "      <td>...</td>\n",
       "      <td>0</td>\n",
       "      <td>NaN</td>\n",
       "      <td>NaN</td>\n",
       "      <td>NaN</td>\n",
       "      <td>0</td>\n",
       "      <td>2</td>\n",
       "      <td>2006</td>\n",
       "      <td>WD</td>\n",
       "      <td>Abnorml</td>\n",
       "      <td>140000</td>\n",
       "    </tr>\n",
       "    <tr>\n",
       "      <th>4</th>\n",
       "      <td>5</td>\n",
       "      <td>60</td>\n",
       "      <td>RL</td>\n",
       "      <td>84.0</td>\n",
       "      <td>14260</td>\n",
       "      <td>Pave</td>\n",
       "      <td>NaN</td>\n",
       "      <td>IR1</td>\n",
       "      <td>Lvl</td>\n",
       "      <td>AllPub</td>\n",
       "      <td>...</td>\n",
       "      <td>0</td>\n",
       "      <td>NaN</td>\n",
       "      <td>NaN</td>\n",
       "      <td>NaN</td>\n",
       "      <td>0</td>\n",
       "      <td>12</td>\n",
       "      <td>2008</td>\n",
       "      <td>WD</td>\n",
       "      <td>Normal</td>\n",
       "      <td>250000</td>\n",
       "    </tr>\n",
       "    <tr>\n",
       "      <th>...</th>\n",
       "      <td>...</td>\n",
       "      <td>...</td>\n",
       "      <td>...</td>\n",
       "      <td>...</td>\n",
       "      <td>...</td>\n",
       "      <td>...</td>\n",
       "      <td>...</td>\n",
       "      <td>...</td>\n",
       "      <td>...</td>\n",
       "      <td>...</td>\n",
       "      <td>...</td>\n",
       "      <td>...</td>\n",
       "      <td>...</td>\n",
       "      <td>...</td>\n",
       "      <td>...</td>\n",
       "      <td>...</td>\n",
       "      <td>...</td>\n",
       "      <td>...</td>\n",
       "      <td>...</td>\n",
       "      <td>...</td>\n",
       "      <td>...</td>\n",
       "    </tr>\n",
       "    <tr>\n",
       "      <th>1455</th>\n",
       "      <td>1456</td>\n",
       "      <td>60</td>\n",
       "      <td>RL</td>\n",
       "      <td>62.0</td>\n",
       "      <td>7917</td>\n",
       "      <td>Pave</td>\n",
       "      <td>NaN</td>\n",
       "      <td>Reg</td>\n",
       "      <td>Lvl</td>\n",
       "      <td>AllPub</td>\n",
       "      <td>...</td>\n",
       "      <td>0</td>\n",
       "      <td>NaN</td>\n",
       "      <td>NaN</td>\n",
       "      <td>NaN</td>\n",
       "      <td>0</td>\n",
       "      <td>8</td>\n",
       "      <td>2007</td>\n",
       "      <td>WD</td>\n",
       "      <td>Normal</td>\n",
       "      <td>175000</td>\n",
       "    </tr>\n",
       "    <tr>\n",
       "      <th>1456</th>\n",
       "      <td>1457</td>\n",
       "      <td>20</td>\n",
       "      <td>RL</td>\n",
       "      <td>85.0</td>\n",
       "      <td>13175</td>\n",
       "      <td>Pave</td>\n",
       "      <td>NaN</td>\n",
       "      <td>Reg</td>\n",
       "      <td>Lvl</td>\n",
       "      <td>AllPub</td>\n",
       "      <td>...</td>\n",
       "      <td>0</td>\n",
       "      <td>NaN</td>\n",
       "      <td>MnPrv</td>\n",
       "      <td>NaN</td>\n",
       "      <td>0</td>\n",
       "      <td>2</td>\n",
       "      <td>2010</td>\n",
       "      <td>WD</td>\n",
       "      <td>Normal</td>\n",
       "      <td>210000</td>\n",
       "    </tr>\n",
       "    <tr>\n",
       "      <th>1457</th>\n",
       "      <td>1458</td>\n",
       "      <td>70</td>\n",
       "      <td>RL</td>\n",
       "      <td>66.0</td>\n",
       "      <td>9042</td>\n",
       "      <td>Pave</td>\n",
       "      <td>NaN</td>\n",
       "      <td>Reg</td>\n",
       "      <td>Lvl</td>\n",
       "      <td>AllPub</td>\n",
       "      <td>...</td>\n",
       "      <td>0</td>\n",
       "      <td>NaN</td>\n",
       "      <td>GdPrv</td>\n",
       "      <td>Shed</td>\n",
       "      <td>2500</td>\n",
       "      <td>5</td>\n",
       "      <td>2010</td>\n",
       "      <td>WD</td>\n",
       "      <td>Normal</td>\n",
       "      <td>266500</td>\n",
       "    </tr>\n",
       "    <tr>\n",
       "      <th>1458</th>\n",
       "      <td>1459</td>\n",
       "      <td>20</td>\n",
       "      <td>RL</td>\n",
       "      <td>68.0</td>\n",
       "      <td>9717</td>\n",
       "      <td>Pave</td>\n",
       "      <td>NaN</td>\n",
       "      <td>Reg</td>\n",
       "      <td>Lvl</td>\n",
       "      <td>AllPub</td>\n",
       "      <td>...</td>\n",
       "      <td>0</td>\n",
       "      <td>NaN</td>\n",
       "      <td>NaN</td>\n",
       "      <td>NaN</td>\n",
       "      <td>0</td>\n",
       "      <td>4</td>\n",
       "      <td>2010</td>\n",
       "      <td>WD</td>\n",
       "      <td>Normal</td>\n",
       "      <td>142125</td>\n",
       "    </tr>\n",
       "    <tr>\n",
       "      <th>1459</th>\n",
       "      <td>1460</td>\n",
       "      <td>20</td>\n",
       "      <td>RL</td>\n",
       "      <td>75.0</td>\n",
       "      <td>9937</td>\n",
       "      <td>Pave</td>\n",
       "      <td>NaN</td>\n",
       "      <td>Reg</td>\n",
       "      <td>Lvl</td>\n",
       "      <td>AllPub</td>\n",
       "      <td>...</td>\n",
       "      <td>0</td>\n",
       "      <td>NaN</td>\n",
       "      <td>NaN</td>\n",
       "      <td>NaN</td>\n",
       "      <td>0</td>\n",
       "      <td>6</td>\n",
       "      <td>2008</td>\n",
       "      <td>WD</td>\n",
       "      <td>Normal</td>\n",
       "      <td>147500</td>\n",
       "    </tr>\n",
       "  </tbody>\n",
       "</table>\n",
       "<p>1460 rows × 81 columns</p>\n",
       "</div>"
      ],
      "text/plain": [
       "        Id  MSSubClass MSZoning  LotFrontage  LotArea Street Alley LotShape  \\\n",
       "0        1          60       RL         65.0     8450   Pave   NaN      Reg   \n",
       "1        2          20       RL         80.0     9600   Pave   NaN      Reg   \n",
       "2        3          60       RL         68.0    11250   Pave   NaN      IR1   \n",
       "3        4          70       RL         60.0     9550   Pave   NaN      IR1   \n",
       "4        5          60       RL         84.0    14260   Pave   NaN      IR1   \n",
       "...    ...         ...      ...          ...      ...    ...   ...      ...   \n",
       "1455  1456          60       RL         62.0     7917   Pave   NaN      Reg   \n",
       "1456  1457          20       RL         85.0    13175   Pave   NaN      Reg   \n",
       "1457  1458          70       RL         66.0     9042   Pave   NaN      Reg   \n",
       "1458  1459          20       RL         68.0     9717   Pave   NaN      Reg   \n",
       "1459  1460          20       RL         75.0     9937   Pave   NaN      Reg   \n",
       "\n",
       "     LandContour Utilities  ... PoolArea PoolQC  Fence MiscFeature MiscVal  \\\n",
       "0            Lvl    AllPub  ...        0    NaN    NaN         NaN       0   \n",
       "1            Lvl    AllPub  ...        0    NaN    NaN         NaN       0   \n",
       "2            Lvl    AllPub  ...        0    NaN    NaN         NaN       0   \n",
       "3            Lvl    AllPub  ...        0    NaN    NaN         NaN       0   \n",
       "4            Lvl    AllPub  ...        0    NaN    NaN         NaN       0   \n",
       "...          ...       ...  ...      ...    ...    ...         ...     ...   \n",
       "1455         Lvl    AllPub  ...        0    NaN    NaN         NaN       0   \n",
       "1456         Lvl    AllPub  ...        0    NaN  MnPrv         NaN       0   \n",
       "1457         Lvl    AllPub  ...        0    NaN  GdPrv        Shed    2500   \n",
       "1458         Lvl    AllPub  ...        0    NaN    NaN         NaN       0   \n",
       "1459         Lvl    AllPub  ...        0    NaN    NaN         NaN       0   \n",
       "\n",
       "     MoSold YrSold  SaleType  SaleCondition  SalePrice  \n",
       "0         2   2008        WD         Normal     208500  \n",
       "1         5   2007        WD         Normal     181500  \n",
       "2         9   2008        WD         Normal     223500  \n",
       "3         2   2006        WD        Abnorml     140000  \n",
       "4        12   2008        WD         Normal     250000  \n",
       "...     ...    ...       ...            ...        ...  \n",
       "1455      8   2007        WD         Normal     175000  \n",
       "1456      2   2010        WD         Normal     210000  \n",
       "1457      5   2010        WD         Normal     266500  \n",
       "1458      4   2010        WD         Normal     142125  \n",
       "1459      6   2008        WD         Normal     147500  \n",
       "\n",
       "[1460 rows x 81 columns]"
      ]
     },
     "execution_count": 7,
     "metadata": {},
     "output_type": "execute_result"
    }
   ],
   "source": [
    "df_train"
   ]
  },
  {
   "cell_type": "code",
   "execution_count": 8,
   "id": "3c8f2626-900b-47d0-b068-7ca92f8d8105",
   "metadata": {
    "tags": []
   },
   "outputs": [
    {
     "name": "stdout",
     "output_type": "stream",
     "text": [
      "PoolQC          1453\n",
      "MiscFeature     1406\n",
      "Alley           1369\n",
      "Fence           1179\n",
      "MasVnrType       872\n",
      "FireplaceQu      690\n",
      "LotFrontage      259\n",
      "GarageType        81\n",
      "GarageYrBlt       81\n",
      "GarageFinish      81\n",
      "GarageQual        81\n",
      "GarageCond        81\n",
      "BsmtFinType2      38\n",
      "BsmtExposure      38\n",
      "BsmtFinType1      37\n",
      "BsmtCond          37\n",
      "BsmtQual          37\n",
      "MasVnrArea         8\n",
      "Electrical         1\n",
      "dtype: int64\n"
     ]
    }
   ],
   "source": [
    "#check null train\n",
    "diff_train = len(df_train) - df_train.count()\n",
    "diff_filtered_train = diff_train[diff_train != 0]\n",
    "diff_sorted_train = diff_filtered_train.sort_values(ascending=False)\n",
    "print(diff_sorted_train)"
   ]
  },
  {
   "cell_type": "code",
   "execution_count": 9,
   "id": "cea2356d-986d-46da-8ab9-87820ed00e1e",
   "metadata": {
    "tags": []
   },
   "outputs": [],
   "source": [
    "#Suppressions des colonnes qui ont trop de valeurs nulles (plus d'1/3 des données)\n",
    "# Liste des colonnes à supprimer\n",
    "cols_to_drop = [\"PoolQC\", \"MiscFeature\", \"Alley\", \"Fence\", \"MasVnrType\", \"FireplaceQu\"]\n",
    "\n",
    "# Suppression des colonnes dans df_test\n",
    "df_test = df_test.drop(columns=cols_to_drop, errors='ignore')\n",
    "\n",
    "# Suppression des colonnes dans df_train\n",
    "df_train = df_train.drop(columns=cols_to_drop, errors='ignore')"
   ]
  },
  {
   "cell_type": "code",
   "execution_count": 10,
   "id": "1437f790-93a5-43a4-ba17-f77060501e46",
   "metadata": {
    "tags": []
   },
   "outputs": [],
   "source": [
    "# si df_test = df_test.dropna() on perds trop de données (pratiquement 1/3 ( 1109 rows restantes)"
   ]
  },
  {
   "cell_type": "code",
   "execution_count": 11,
   "id": "af7c32c4-b57e-4f37-ba00-7e7c6df60565",
   "metadata": {
    "tags": []
   },
   "outputs": [
    {
     "name": "stdout",
     "output_type": "stream",
     "text": [
      "La colonne 'SalePrice' est présente dans df_train.\n"
     ]
    }
   ],
   "source": [
    "# Vérifiez si la colonne 'SalePrice' est présente dans 'df_train'\n",
    "if 'SalePrice' in df_train.columns:\n",
    "    print(\"La colonne 'SalePrice' est présente dans df_train.\")\n",
    "else:\n",
    "    print(\"La colonne 'SalePrice' n'est pas présente dans df_train.\")"
   ]
  },
  {
   "cell_type": "code",
   "execution_count": 12,
   "id": "6c47caec-438a-44be-a0b3-e1634d8657fa",
   "metadata": {
    "tags": []
   },
   "outputs": [
    {
     "name": "stdout",
     "output_type": "stream",
     "text": [
      "La colonne 'SalePrice' n'est pas présente dans df_test.\n"
     ]
    }
   ],
   "source": [
    "# Vérifiez si la colonne 'SalePrice' est présente dans 'df_test'\n",
    "if 'SalePrice' in df_test.columns:\n",
    "    print(\"La colonne 'SalePrice' est présente dans df_test.\")\n",
    "else:\n",
    "    print(\"La colonne 'SalePrice' n'est pas présente dans df_test.\")"
   ]
  },
  {
   "cell_type": "code",
   "execution_count": 13,
   "id": "50ec9a4d-e1b4-4b25-94eb-8f14a17f72ed",
   "metadata": {
    "tags": []
   },
   "outputs": [],
   "source": [
    "from sklearn.compose import ColumnTransformer\n",
    "from sklearn.preprocessing import OneHotEncoder\n",
    "from sklearn.impute import SimpleImputer"
   ]
  },
  {
   "cell_type": "code",
   "execution_count": 14,
   "id": "470ca79e-4fcc-4d25-a23e-bfdfe8b90b44",
   "metadata": {
    "tags": []
   },
   "outputs": [],
   "source": [
    "# Préparation des données\n",
    "X_train = df_train.drop(columns=['Id','SalePrice'])\n",
    "y_train = df_train['SalePrice']\n",
    "X_test = df_test.drop(columns=['Id'])"
   ]
  },
  {
   "cell_type": "code",
   "execution_count": 15,
   "id": "b9d305bd-1ea3-47db-a98a-0b82dfd8c315",
   "metadata": {
    "tags": []
   },
   "outputs": [],
   "source": [
    "categorical_cols = X_train.select_dtypes(include=['object', 'category']).columns"
   ]
  },
  {
   "cell_type": "code",
   "execution_count": 16,
   "id": "ba13e5f6-5c07-4c9b-8a14-4832000262c1",
   "metadata": {
    "tags": []
   },
   "outputs": [],
   "source": [
    "# Création du transformateur avec OneHotEncoder pour les colonnes catégorielles\n",
    "column_transformer = ColumnTransformer(transformers=[('cat', OneHotEncoder(handle_unknown='ignore'), categorical_cols)\n",
    "], remainder='passthrough')  # 'remainder=passthrough' permet de garder les colonnes numériques telles quelles"
   ]
  },
  {
   "cell_type": "code",
   "execution_count": 17,
   "id": "39888b38-ffc1-419d-a69c-c5014014f507",
   "metadata": {
    "tags": []
   },
   "outputs": [],
   "source": [
    "# Application du transformateur aux datasets de train et de test\n",
    "X_train_transformed = column_transformer.fit_transform(X_train)\n",
    "X_test_transformed = column_transformer.transform(X_test)"
   ]
  },
  {
   "cell_type": "code",
   "execution_count": 18,
   "id": "8dbc0bd9-ce32-4a5e-8ed2-289de78659ec",
   "metadata": {
    "tags": []
   },
   "outputs": [],
   "source": [
    "# Création de l'imputeur, ici on utilise la médiane comme exemple\n",
    "imputer = SimpleImputer(strategy='median')"
   ]
  },
  {
   "cell_type": "code",
   "execution_count": 19,
   "id": "e889b4ab-2b9f-4266-987b-b704c0dd4236",
   "metadata": {
    "tags": []
   },
   "outputs": [],
   "source": [
    "# Fit sur les données d'entraînement et transformation de X_train et X_test\n",
    "X_train_imputed = imputer.fit_transform(X_train_transformed)\n",
    "X_test_imputed = imputer.transform(X_test_transformed)  # Utiliser le même imputeur pour garantir la cohérence"
   ]
  },
  {
   "cell_type": "code",
   "execution_count": 20,
   "id": "6773911a-66a1-4b0d-8c0e-b0b0618da40c",
   "metadata": {
    "tags": []
   },
   "outputs": [],
   "source": [
    "# Conversion des matrices transformées en format dense\n",
    "X_train_dense = X_train_imputed if not hasattr(X_train_imputed, \"todense\") else X_train_imputed.todense()\n",
    "X_test_dense = X_test_imputed if not hasattr(X_test_imputed, \"todense\") else X_test_imputed.todense()"
   ]
  },
  {
   "cell_type": "code",
   "execution_count": 21,
   "id": "a7879e2e-158d-4cd4-acf2-d74998fb648c",
   "metadata": {
    "tags": []
   },
   "outputs": [],
   "source": [
    "#Sélection des Caractéristiques"
   ]
  },
  {
   "cell_type": "code",
   "execution_count": 22,
   "id": "36450a49-ace7-491f-9256-f1c3b9221535",
   "metadata": {
    "tags": []
   },
   "outputs": [],
   "source": [
    "#Méthode 1: LASSO"
   ]
  },
  {
   "cell_type": "code",
   "execution_count": 23,
   "id": "3fcddcda-9282-4c45-a206-1887ee0ea931",
   "metadata": {
    "tags": []
   },
   "outputs": [],
   "source": [
    "from sklearn.linear_model import LassoCV"
   ]
  },
  {
   "cell_type": "code",
   "execution_count": 24,
   "id": "0e6f533c-841d-4339-84d0-205553d213e0",
   "metadata": {
    "tags": []
   },
   "outputs": [],
   "source": [
    "# Entraînement de LassoCV\n",
    "lasso = LassoCV(cv=5).fit(X_train_imputed, y_train)\n",
    "mask = lasso.coef_ != 0"
   ]
  },
  {
   "cell_type": "code",
   "execution_count": 25,
   "id": "9da39979-2b23-49ac-8c5b-bf956e7c8788",
   "metadata": {
    "tags": []
   },
   "outputs": [],
   "source": [
    "# Récupération des noms des caractéristiques après transformation\n",
    "feature_names_Lasso = column_transformer.get_feature_names_out()\n",
    "selected_features_Lasso = feature_names_Lasso[mask]"
   ]
  },
  {
   "cell_type": "code",
   "execution_count": 26,
   "id": "3a036743-71ad-40c9-a90c-7cfdd7d73342",
   "metadata": {
    "tags": []
   },
   "outputs": [],
   "source": [
    "# Filtration des colonnes basées sur les caractéristiques sélectionnées par LASSO pour l'ensemble d'entraînement\n",
    "df_train_Lasso = pd.DataFrame(X_train_dense[:, mask], columns=selected_features_Lasso)\n",
    "df_train_Lasso['SalePrice'] = y_train.reset_index(drop=True)  # Ajout de la colonne 'SalePrice'"
   ]
  },
  {
   "cell_type": "code",
   "execution_count": 27,
   "id": "0dd14ba4-e131-4e5b-be55-ac1a7454a2ef",
   "metadata": {
    "tags": []
   },
   "outputs": [],
   "source": [
    "# Filtration des colonnes basées sur les caractéristiques sélectionnées par LASSO pour l'ensemble de test\n",
    "df_test_Lasso = pd.DataFrame(X_test_dense[:, mask], columns=selected_features_Lasso)"
   ]
  },
  {
   "cell_type": "code",
   "execution_count": 28,
   "id": "0105234e-2d8a-43b9-ba9c-419d7956a3b4",
   "metadata": {
    "tags": []
   },
   "outputs": [],
   "source": [
    "#Méthode 2: Importance des caractéristiques avec Random Forest"
   ]
  },
  {
   "cell_type": "code",
   "execution_count": 29,
   "id": "3274f1e9-b1f5-4e77-87be-54c5e344005b",
   "metadata": {
    "tags": []
   },
   "outputs": [],
   "source": [
    "from sklearn.ensemble import RandomForestRegressor"
   ]
  },
  {
   "cell_type": "code",
   "execution_count": 30,
   "id": "3093ae6d-7be2-47ef-ae33-69f337583086",
   "metadata": {
    "tags": []
   },
   "outputs": [
    {
     "data": {
      "text/html": [
       "<style>#sk-container-id-1 {color: black;}#sk-container-id-1 pre{padding: 0;}#sk-container-id-1 div.sk-toggleable {background-color: white;}#sk-container-id-1 label.sk-toggleable__label {cursor: pointer;display: block;width: 100%;margin-bottom: 0;padding: 0.3em;box-sizing: border-box;text-align: center;}#sk-container-id-1 label.sk-toggleable__label-arrow:before {content: \"▸\";float: left;margin-right: 0.25em;color: #696969;}#sk-container-id-1 label.sk-toggleable__label-arrow:hover:before {color: black;}#sk-container-id-1 div.sk-estimator:hover label.sk-toggleable__label-arrow:before {color: black;}#sk-container-id-1 div.sk-toggleable__content {max-height: 0;max-width: 0;overflow: hidden;text-align: left;background-color: #f0f8ff;}#sk-container-id-1 div.sk-toggleable__content pre {margin: 0.2em;color: black;border-radius: 0.25em;background-color: #f0f8ff;}#sk-container-id-1 input.sk-toggleable__control:checked~div.sk-toggleable__content {max-height: 200px;max-width: 100%;overflow: auto;}#sk-container-id-1 input.sk-toggleable__control:checked~label.sk-toggleable__label-arrow:before {content: \"▾\";}#sk-container-id-1 div.sk-estimator input.sk-toggleable__control:checked~label.sk-toggleable__label {background-color: #d4ebff;}#sk-container-id-1 div.sk-label input.sk-toggleable__control:checked~label.sk-toggleable__label {background-color: #d4ebff;}#sk-container-id-1 input.sk-hidden--visually {border: 0;clip: rect(1px 1px 1px 1px);clip: rect(1px, 1px, 1px, 1px);height: 1px;margin: -1px;overflow: hidden;padding: 0;position: absolute;width: 1px;}#sk-container-id-1 div.sk-estimator {font-family: monospace;background-color: #f0f8ff;border: 1px dotted black;border-radius: 0.25em;box-sizing: border-box;margin-bottom: 0.5em;}#sk-container-id-1 div.sk-estimator:hover {background-color: #d4ebff;}#sk-container-id-1 div.sk-parallel-item::after {content: \"\";width: 100%;border-bottom: 1px solid gray;flex-grow: 1;}#sk-container-id-1 div.sk-label:hover label.sk-toggleable__label {background-color: #d4ebff;}#sk-container-id-1 div.sk-serial::before {content: \"\";position: absolute;border-left: 1px solid gray;box-sizing: border-box;top: 0;bottom: 0;left: 50%;z-index: 0;}#sk-container-id-1 div.sk-serial {display: flex;flex-direction: column;align-items: center;background-color: white;padding-right: 0.2em;padding-left: 0.2em;position: relative;}#sk-container-id-1 div.sk-item {position: relative;z-index: 1;}#sk-container-id-1 div.sk-parallel {display: flex;align-items: stretch;justify-content: center;background-color: white;position: relative;}#sk-container-id-1 div.sk-item::before, #sk-container-id-1 div.sk-parallel-item::before {content: \"\";position: absolute;border-left: 1px solid gray;box-sizing: border-box;top: 0;bottom: 0;left: 50%;z-index: -1;}#sk-container-id-1 div.sk-parallel-item {display: flex;flex-direction: column;z-index: 1;position: relative;background-color: white;}#sk-container-id-1 div.sk-parallel-item:first-child::after {align-self: flex-end;width: 50%;}#sk-container-id-1 div.sk-parallel-item:last-child::after {align-self: flex-start;width: 50%;}#sk-container-id-1 div.sk-parallel-item:only-child::after {width: 0;}#sk-container-id-1 div.sk-dashed-wrapped {border: 1px dashed gray;margin: 0 0.4em 0.5em 0.4em;box-sizing: border-box;padding-bottom: 0.4em;background-color: white;}#sk-container-id-1 div.sk-label label {font-family: monospace;font-weight: bold;display: inline-block;line-height: 1.2em;}#sk-container-id-1 div.sk-label-container {text-align: center;}#sk-container-id-1 div.sk-container {/* jupyter's `normalize.less` sets `[hidden] { display: none; }` but bootstrap.min.css set `[hidden] { display: none !important; }` so we also need the `!important` here to be able to override the default hidden behavior on the sphinx rendered scikit-learn.org. See: https://github.com/scikit-learn/scikit-learn/issues/21755 */display: inline-block !important;position: relative;}#sk-container-id-1 div.sk-text-repr-fallback {display: none;}</style><div id=\"sk-container-id-1\" class=\"sk-top-container\"><div class=\"sk-text-repr-fallback\"><pre>RandomForestRegressor(n_estimators=1000, random_state=42)</pre><b>In a Jupyter environment, please rerun this cell to show the HTML representation or trust the notebook. <br />On GitHub, the HTML representation is unable to render, please try loading this page with nbviewer.org.</b></div><div class=\"sk-container\" hidden><div class=\"sk-item\"><div class=\"sk-estimator sk-toggleable\"><input class=\"sk-toggleable__control sk-hidden--visually\" id=\"sk-estimator-id-1\" type=\"checkbox\" checked><label for=\"sk-estimator-id-1\" class=\"sk-toggleable__label sk-toggleable__label-arrow\">RandomForestRegressor</label><div class=\"sk-toggleable__content\"><pre>RandomForestRegressor(n_estimators=1000, random_state=42)</pre></div></div></div></div></div>"
      ],
      "text/plain": [
       "RandomForestRegressor(n_estimators=1000, random_state=42)"
      ]
     },
     "execution_count": 30,
     "metadata": {},
     "output_type": "execute_result"
    }
   ],
   "source": [
    "# Entraînement d'un modèle Random Forest pour évaluer l'importance des caractéristiques\n",
    "forest = RandomForestRegressor(n_estimators=1000, random_state=42)\n",
    "forest.fit(X_train_imputed, y_train)"
   ]
  },
  {
   "cell_type": "code",
   "execution_count": 31,
   "id": "b4a26111-b2ae-46c7-8e2f-46f6dada4c28",
   "metadata": {
    "tags": []
   },
   "outputs": [],
   "source": [
    "# Obtention des importances des caractéristiques\n",
    "importances = forest.feature_importances_\n",
    "indices = np.argsort(importances)[::-1]"
   ]
  },
  {
   "cell_type": "code",
   "execution_count": 32,
   "id": "bad73aba-f8b4-4c09-8fa4-c657717b60b9",
   "metadata": {
    "tags": []
   },
   "outputs": [],
   "source": [
    "# Sélection des caractéristiques basée sur l'importance (vous pouvez ajuster le critère de sélection si nécessaire)\n",
    "# Ici, nous prenons simplement les caractéristiques avec une importance non nulle comme exemple\n",
    "selected_indices_RF = indices[importances[indices] > 0]\n",
    "feature_names_RF = column_transformer.get_feature_names_out()\n",
    "selected_features_RF = feature_names_RF[selected_indices_RF]"
   ]
  },
  {
   "cell_type": "code",
   "execution_count": 33,
   "id": "a1dc105d-aae1-4cc0-abb6-c31da7ba2ffd",
   "metadata": {
    "tags": []
   },
   "outputs": [],
   "source": [
    "df_train_RF = pd.DataFrame(X_train_dense[:, selected_indices_RF], columns=selected_features_RF)\n",
    "df_train_RF['SalePrice'] = y_train.reset_index(drop=True)"
   ]
  },
  {
   "cell_type": "code",
   "execution_count": 34,
   "id": "669d0864-0f62-451f-b9e5-789841005278",
   "metadata": {
    "tags": []
   },
   "outputs": [],
   "source": [
    "df_test_RF = pd.DataFrame(X_test_dense[:, selected_indices_RF], columns=selected_features_RF)"
   ]
  },
  {
   "cell_type": "code",
   "execution_count": 35,
   "id": "148ce0bf-4394-4222-8d6c-eec226123718",
   "metadata": {},
   "outputs": [],
   "source": [
    "#Méthode 3: Recursive Feature Elimination (RFE) avec SVR"
   ]
  },
  {
   "cell_type": "code",
   "execution_count": 36,
   "id": "8891293d-b1dd-4a9f-bfbd-fa81c7b95cf5",
   "metadata": {
    "tags": []
   },
   "outputs": [],
   "source": [
    "from sklearn.feature_selection import RFECV\n",
    "from sklearn.linear_model import LinearRegression"
   ]
  },
  {
   "cell_type": "code",
   "execution_count": 37,
   "id": "e4078cb2-bdbc-4f4c-9d11-d1593baf10e9",
   "metadata": {
    "tags": []
   },
   "outputs": [],
   "source": [
    "# Appliquer RFE avec un estimateur, ici LinearRegression comme exemple\n",
    "estimator = LinearRegression()\n",
    "selector = RFECV(estimator, step=1, cv=10)\n",
    "selector = selector.fit(X_train_imputed, y_train)"
   ]
  },
  {
   "cell_type": "code",
   "execution_count": 38,
   "id": "f6f99f45-19df-4ef3-bd42-596e2b9b768b",
   "metadata": {
    "tags": []
   },
   "outputs": [],
   "source": [
    "# Filtrer les caractéristiques sélectionnées\n",
    "selected_features_RFE = column_transformer.get_feature_names_out()[selector.support_]"
   ]
  },
  {
   "cell_type": "code",
   "execution_count": 39,
   "id": "aade6591-6cb5-45be-adf6-cb1e5cc41485",
   "metadata": {
    "tags": []
   },
   "outputs": [],
   "source": [
    "df_train_RFE = pd.DataFrame(X_train_dense[:, selector.support_], columns=selected_features_RFE)\n",
    "df_train_RFE['SalePrice'] = y_train.reset_index(drop=True)"
   ]
  },
  {
   "cell_type": "code",
   "execution_count": 40,
   "id": "fe1e6273-6dcb-4a4d-a4ff-d4f4a0a4864f",
   "metadata": {
    "tags": []
   },
   "outputs": [],
   "source": [
    "df_test_RFE = pd.DataFrame(X_test_dense[:, selector.support_], columns=selected_features_RFE)"
   ]
  },
  {
   "cell_type": "code",
   "execution_count": 41,
   "id": "9c18115f-8b6a-4957-89ee-b8c8ea9227b1",
   "metadata": {
    "tags": []
   },
   "outputs": [],
   "source": [
    "#Comparaison des résultats"
   ]
  },
  {
   "cell_type": "code",
   "execution_count": 42,
   "id": "11e78a18-3a35-4c8a-95d9-9446231f9d3d",
   "metadata": {
    "tags": []
   },
   "outputs": [],
   "source": [
    "from sklearn.model_selection import train_test_split\n",
    "from sklearn.metrics import mean_squared_error, r2_score"
   ]
  },
  {
   "cell_type": "code",
   "execution_count": 43,
   "id": "1fc0dd70-2691-451a-950c-e4408811da65",
   "metadata": {
    "tags": []
   },
   "outputs": [],
   "source": [
    "y_val = df_sample_submission.drop(columns=['Id']).to_numpy()"
   ]
  },
  {
   "cell_type": "code",
   "execution_count": 44,
   "id": "71958433-cf85-4071-aad0-dadf03c0f7c4",
   "metadata": {
    "tags": []
   },
   "outputs": [],
   "source": [
    "# Fonction pour évaluer les performances d'un modèle\n",
    "def evaluate_model(X, y, xtest):\n",
    "    # Entraîner le modèle\n",
    "    model = LinearRegression()\n",
    "    model.fit(X, y)\n",
    "    \n",
    "    # Faire des prédictions sur l'ensemble de validation\n",
    "    y_pred = model.predict(xtest)\n",
    "    \n",
    "    # Calculer les métriques\n",
    "    rmse = np.sqrt(mean_squared_error(y_val, y_pred))\n",
    "    r2 = r2_score(y_val, y_pred)\n",
    "    \n",
    "    return rmse, r2, y_pred"
   ]
  },
  {
   "cell_type": "code",
   "execution_count": 45,
   "id": "f0bfdc52-dbe9-4267-a04f-d50abe02bd32",
   "metadata": {
    "tags": []
   },
   "outputs": [],
   "source": [
    "# Préparation des données pour l'évaluation\n",
    "X_Lasso = df_train_Lasso.drop(columns=['SalePrice'])\n",
    "y_Lasso = df_train_Lasso['SalePrice']\n",
    "\n",
    "X_RF = df_train_RF.drop(columns=['SalePrice'])\n",
    "y_RF = df_train_RF['SalePrice']\n",
    "\n",
    "X_RFE = df_train_RFE.drop(columns=['SalePrice'])\n",
    "y_RFE = df_train_RFE['SalePrice']"
   ]
  },
  {
   "cell_type": "code",
   "execution_count": 46,
   "id": "8f66dc79-eb73-4d92-8f72-ba6835fc49fa",
   "metadata": {
    "tags": []
   },
   "outputs": [],
   "source": [
    "# Évaluation des modèles\n",
    "rmse_lasso, r2_lasso, y_pred_lasso = evaluate_model(X_Lasso, y_Lasso, df_test_Lasso)\n",
    "rmse_rf, r2_rf, y_pred_rf = evaluate_model(X_RF, y_RF, df_test_RF)\n",
    "rmse_rfe, r2_rfe, y_pred_rfe = evaluate_model(X_RFE, y_RFE, df_test_RFE)"
   ]
  },
  {
   "cell_type": "code",
   "execution_count": 47,
   "id": "6d8b84ac-29b7-4ad7-acb8-47e27f453ed2",
   "metadata": {
    "tags": []
   },
   "outputs": [
    {
     "name": "stdout",
     "output_type": "stream",
     "text": [
      "LASSO - RMSE: 63498.877310299926, R^2: -13.787644533364329\n",
      "Random Forest - RMSE: 12148384211616.07, R^2: -5.4125752356557434e+17\n",
      "RFE - RMSE: 14661297431193.688, R^2: -7.883366497017984e+17\n"
     ]
    }
   ],
   "source": [
    "# Affichage des résultats\n",
    "print(f\"LASSO - RMSE: {rmse_lasso}, R^2: {r2_lasso}\")\n",
    "print(f\"Random Forest - RMSE: {rmse_rf}, R^2: {r2_rf}\")\n",
    "print(f\"RFE - RMSE: {rmse_rfe}, R^2: {r2_rfe}\")"
   ]
  },
  {
   "cell_type": "code",
   "execution_count": 48,
   "id": "9a9a797c-8137-4280-be7b-af72a54e38d9",
   "metadata": {
    "tags": []
   },
   "outputs": [],
   "source": [
    "test_lasso = pd.DataFrame({'Id': range(1461, 1461+len(y_pred_lasso)), 'SalePrice': y_pred_lasso})"
   ]
  },
  {
   "cell_type": "code",
   "execution_count": 49,
   "id": "8a4827df-dca8-4cfe-bb0d-bada4c5f9ac9",
   "metadata": {
    "tags": []
   },
   "outputs": [],
   "source": [
    "test_rf = pd.DataFrame({'Id': range(1461, 1461+len(y_pred_rf)), 'SalePrice': y_pred_rf})"
   ]
  },
  {
   "cell_type": "code",
   "execution_count": 50,
   "id": "046a7baf-bde3-4f0e-a873-15fc8eb02ad8",
   "metadata": {
    "tags": []
   },
   "outputs": [],
   "source": [
    "test_rfe = pd.DataFrame({'Id': range(1461, 1461+len(y_pred_rfe)), 'SalePrice': y_pred_rfe})"
   ]
  },
  {
   "cell_type": "code",
   "execution_count": 51,
   "id": "719d4937-a946-405c-a31d-fa2e550d6a08",
   "metadata": {
    "tags": []
   },
   "outputs": [],
   "source": [
    "test_lasso.to_csv(\"test_lasso.csv\", index=False)"
   ]
  },
  {
   "cell_type": "code",
   "execution_count": 52,
   "id": "71ea6ead-0758-4baa-8267-56573cfab16a",
   "metadata": {
    "tags": []
   },
   "outputs": [],
   "source": [
    "test_rf.to_csv(\"test_rf.csv\", index=False)"
   ]
  },
  {
   "cell_type": "code",
   "execution_count": 53,
   "id": "c0d323e1-859d-452b-b235-6115c9bf5651",
   "metadata": {
    "tags": []
   },
   "outputs": [],
   "source": [
    "test_rfe.to_csv(\"test_rfe.csv\", index=False)"
   ]
  },
  {
   "cell_type": "code",
   "execution_count": null,
   "id": "673682c4-36c5-45a7-b457-771d08eddeb8",
   "metadata": {},
   "outputs": [],
   "source": []
  }
 ],
 "metadata": {
  "kernelspec": {
   "display_name": "Python 3 (ipykernel)",
   "language": "python",
   "name": "python3"
  },
  "language_info": {
   "codemirror_mode": {
    "name": "ipython",
    "version": 3
   },
   "file_extension": ".py",
   "mimetype": "text/x-python",
   "name": "python",
   "nbconvert_exporter": "python",
   "pygments_lexer": "ipython3",
   "version": "3.11.5"
  }
 },
 "nbformat": 4,
 "nbformat_minor": 5
}
